{
 "cells": [
  {
   "cell_type": "code",
   "execution_count": 3,
   "metadata": {},
   "outputs": [
    {
     "name": "stdout",
     "output_type": "stream",
     "text": [
      "[[ True  True  True  True False False False]\n",
      " [False False  True False  True  True  True]\n",
      " [ True False False  True False  True  True]\n",
      " [ True False False  True  True  True  True]\n",
      " [ True  True  True  True False False False]]\n",
      "   support        itemsets\n",
      "0      0.8         (Bread)\n",
      "1      0.6          (Eggs)\n",
      "2      0.8          (Milk)\n",
      "3      0.6        (Potato)\n",
      "4      0.6          (Salt)\n",
      "5      0.8   (Milk, Bread)\n",
      "6      0.6  (Potato, Salt)\n",
      "   support        itemsets  length\n",
      "0      0.8         (Bread)       1\n",
      "1      0.6          (Eggs)       1\n",
      "2      0.8          (Milk)       1\n",
      "3      0.6        (Potato)       1\n",
      "4      0.6          (Salt)       1\n",
      "5      0.8   (Milk, Bread)       2\n",
      "6      0.6  (Potato, Salt)       2\n",
      "   support        itemsets  length\n",
      "5      0.8   (Milk, Bread)       2\n",
      "6      0.6  (Potato, Salt)       2\n",
      "Empty DataFrame\n",
      "Columns: [support, itemsets, length]\n",
      "Index: []\n"
     ]
    }
   ],
   "source": [
    "import pandas as pd\n",
    "from mlxtend.preprocessing import TransactionEncoder\n",
    "from mlxtend.frequent_patterns import apriori\n",
    "\n",
    "'''\n",
    "dataset = [['Milk', 'Onion', 'Nutmeg', 'Kidney Beans', 'Eggs', 'Yogurt'],\n",
    "           ['Dill', 'Onion', 'Nutmeg', 'Kidney Beans', 'Eggs', 'Yogurt'],\n",
    "           ['Milk', 'Apple', 'Kidney Beans', 'Eggs'],\n",
    "           ['Milk', 'Unicorn', 'Corn', 'Kidney Beans', 'Yogurt'],\n",
    "           ['Corn', 'Onion', 'Onion', 'Kidney Beans', 'Ice cream', 'Eggs']]\n",
    "'''\n",
    "dataset=[['Milk', 'Butter', 'Bread', 'Eggs'],\n",
    "         ['Onion', 'Potato',  'Eggs', 'Salt'],\n",
    "         ['Milk', 'Bread', 'Potato', 'Salt'],\n",
    "         ['Milk', 'Bread', 'Potato', 'Salt', 'Onion'],\n",
    "         ['Butter', 'Bread', 'Eggs', 'Milk']]\n",
    "te = TransactionEncoder()\n",
    "te_ary = te.fit(dataset).transform(dataset)\n",
    "print(te_ary)\n",
    "df = pd.DataFrame(te_ary, columns=te.columns_)\n",
    "\n",
    "\n",
    "print(apriori(df, min_support=0.6, use_colnames=True))\n",
    "frequent_itemsets = apriori(df, min_support=0.6, use_colnames=True)\n",
    "frequent_itemsets['length'] = frequent_itemsets['itemsets'].apply(lambda x: len(x))\n",
    "print(frequent_itemsets)\n",
    "print(frequent_itemsets[ (frequent_itemsets['length'] == 2) &\n",
    "                   (frequent_itemsets['support'] >= 0.6) ])\n",
    "print(frequent_itemsets[ frequent_itemsets['itemsets'] == {'Onion', 'Eggs'} ])"
   ]
  },
  {
   "cell_type": "code",
   "execution_count": null,
   "metadata": {},
   "outputs": [],
   "source": []
  }
 ],
 "metadata": {
  "kernelspec": {
   "display_name": "Python 3",
   "language": "python",
   "name": "python3"
  },
  "language_info": {
   "codemirror_mode": {
    "name": "ipython",
    "version": 3
   },
   "file_extension": ".py",
   "mimetype": "text/x-python",
   "name": "python",
   "nbconvert_exporter": "python",
   "pygments_lexer": "ipython3",
   "version": "3.7.3"
  }
 },
 "nbformat": 4,
 "nbformat_minor": 2
}
