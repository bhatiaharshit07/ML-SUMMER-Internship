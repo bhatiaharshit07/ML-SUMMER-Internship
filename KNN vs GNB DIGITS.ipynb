{
 "cells": [
  {
   "cell_type": "code",
   "execution_count": 1,
   "metadata": {},
   "outputs": [],
   "source": [
    "from sklearn import neighbors\n",
    "import numpy as np\n",
    "import pandas as pd\n",
    "from sklearn import datasets \n",
    "from sklearn import metrics\n",
    "digits=datasets.load_digits()\n",
    "from sklearn.model_selection import train_test_split\n",
    "x_train,x_test,y_train,y_test=train_test_split(digits.data,digits.target,test_size=0.2)"
   ]
  },
  {
   "cell_type": "code",
   "execution_count": 2,
   "metadata": {},
   "outputs": [
    {
     "data": {
      "text/plain": [
       "0.8559498956158664"
      ]
     },
     "execution_count": 2,
     "metadata": {},
     "output_type": "execute_result"
    }
   ],
   "source": [
    "from sklearn import naive_bayes\n",
    "gnb=naive_bayes.GaussianNB()\n",
    "gnb.fit(x_train,y_train)\n",
    "gnb.score(x_train,y_train)"
   ]
  },
  {
   "cell_type": "code",
   "execution_count": 3,
   "metadata": {},
   "outputs": [
    {
     "name": "stdout",
     "output_type": "stream",
     "text": [
      "0.8388888888888889\n"
     ]
    }
   ],
   "source": [
    "y_pred=gnb.predict(x_test)\n",
    "score_gnb=metrics.accuracy_score(y_test,y_pred)\n",
    "print(score_gnb)"
   ]
  },
  {
   "cell_type": "code",
   "execution_count": 4,
   "metadata": {},
   "outputs": [
    {
     "data": {
      "text/plain": [
       "0.9895615866388309"
      ]
     },
     "execution_count": 4,
     "metadata": {},
     "output_type": "execute_result"
    }
   ],
   "source": [
    "from sklearn import neighbors\n",
    "knn=neighbors.KNeighborsClassifier()\n",
    "knn.fit(x_train,y_train)\n",
    "knn.score(x_train,y_train)"
   ]
  },
  {
   "cell_type": "code",
   "execution_count": 5,
   "metadata": {},
   "outputs": [
    {
     "name": "stdout",
     "output_type": "stream",
     "text": [
      "0.9888888888888889\n"
     ]
    }
   ],
   "source": [
    "y_Pred=knn.predict(x_test)\n",
    "score_knn=metrics.accuracy_score(y_test,y_Pred)\n",
    "print(score_knn)"
   ]
  },
  {
   "cell_type": "code",
   "execution_count": 6,
   "metadata": {
    "scrolled": false
   },
   "outputs": [],
   "source": [
    "import matplotlib.pyplot as plt\n",
    "for i in y_pred:\n",
    "    plt.imshow(digits.images[i])\n",
    "#printing only last value"
   ]
  },
  {
   "cell_type": "code",
   "execution_count": 7,
   "metadata": {},
   "outputs": [
    {
     "data": {
      "text/plain": [
       "array([4, 2, 8, 6, 9, 0, 6, 0, 6, 7, 9, 8, 5, 1, 6, 8, 9, 1, 6, 6, 5, 1,\n",
       "       4, 7, 1, 2, 6, 4, 8, 7, 7, 1, 8, 8, 7, 6, 1, 9, 8, 2, 0, 0, 4, 8,\n",
       "       6, 2, 8, 8, 5, 6, 3, 4, 6, 8, 6, 5, 7, 4, 5, 4, 6, 5, 3, 7, 5, 7,\n",
       "       5, 1, 6, 9, 2, 7, 2, 6, 7, 8, 5, 8, 6, 1, 7, 0, 6, 5, 7, 0, 0, 6,\n",
       "       6, 6, 8, 1, 0, 8, 2, 2, 8, 7, 7, 1, 6, 1, 0, 8, 0, 8, 3, 5, 4, 9,\n",
       "       6, 3, 8, 7, 3, 7, 5, 5, 1, 1, 7, 8, 9, 4, 5, 5, 0, 4, 5, 5, 6, 0,\n",
       "       8, 3, 0, 9, 6, 9, 2, 0, 8, 9, 8, 0, 7, 3, 7, 3, 8, 0, 5, 3, 9, 1,\n",
       "       1, 2, 8, 9, 7, 6, 3, 7, 5, 9, 1, 4, 6, 5, 9, 0, 4, 1, 0, 8, 2, 0,\n",
       "       2, 6, 8, 9, 0, 9, 5, 7, 4, 8, 9, 8, 9, 1, 0, 6, 3, 6, 5, 2, 8, 7,\n",
       "       6, 3, 9, 2, 9, 3, 5, 6, 7, 7, 4, 2, 0, 8, 2, 5, 8, 7, 8, 8, 9, 3,\n",
       "       3, 3, 3, 3, 6, 7, 7, 0, 6, 5, 4, 2, 2, 9, 8, 3, 0, 6, 0, 7, 1, 7,\n",
       "       0, 0, 8, 3, 5, 0, 6, 4, 5, 1, 5, 7, 4, 6, 7, 5, 0, 8, 0, 5, 6, 7,\n",
       "       8, 5, 4, 4, 3, 8, 1, 5, 5, 9, 8, 3, 2, 2, 3, 0, 0, 8, 6, 7, 5, 2,\n",
       "       5, 1, 6, 8, 1, 7, 7, 7, 4, 8, 5, 6, 1, 6, 0, 7, 5, 1, 6, 7, 1, 7,\n",
       "       7, 6, 9, 5, 0, 1, 4, 1, 5, 5, 4, 7, 8, 2, 8, 6, 5, 4, 5, 6, 9, 0,\n",
       "       8, 8, 5, 6, 1, 3, 9, 2, 8, 3, 8, 4, 0, 8, 3, 0, 7, 3, 5, 9, 4, 0,\n",
       "       1, 3, 7, 5, 7, 8, 7, 6])"
      ]
     },
     "execution_count": 7,
     "metadata": {},
     "output_type": "execute_result"
    }
   ],
   "source": [
    "y_pred"
   ]
  },
  {
   "cell_type": "code",
   "execution_count": null,
   "metadata": {},
   "outputs": [],
   "source": []
  },
  {
   "cell_type": "code",
   "execution_count": null,
   "metadata": {},
   "outputs": [],
   "source": []
  },
  {
   "cell_type": "code",
   "execution_count": null,
   "metadata": {},
   "outputs": [],
   "source": []
  }
 ],
 "metadata": {
  "kernelspec": {
   "display_name": "Python 3",
   "language": "python",
   "name": "python3"
  },
  "language_info": {
   "codemirror_mode": {
    "name": "ipython",
    "version": 3
   },
   "file_extension": ".py",
   "mimetype": "text/x-python",
   "name": "python",
   "nbconvert_exporter": "python",
   "pygments_lexer": "ipython3",
   "version": "3.7.3"
  }
 },
 "nbformat": 4,
 "nbformat_minor": 2
}
